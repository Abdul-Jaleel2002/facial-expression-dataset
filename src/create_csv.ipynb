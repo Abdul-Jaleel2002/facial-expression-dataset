{
 "cells": [
  {
   "cell_type": "code",
   "execution_count": 1,
   "id": "8b6c30c0",
   "metadata": {},
   "outputs": [],
   "source": [
    "import os\n",
    "import csv\n",
    "\n",
    "def create_csv(data_dir, output_csv):\n",
    "    with open(output_csv, mode='w', newline='') as file:\n",
    "        writer = csv.writer(file)\n",
    "        writer.writerow(['filepath', 'label'])\n",
    "\n",
    "        for phase in ['train', 'test']:\n",
    "            phase_dir = os.path.join(data_dir, phase)\n",
    "            for label in os.listdir(phase_dir):\n",
    "                label_dir = os.path.join(phase_dir, label)\n",
    "                if os.path.isdir(label_dir):\n",
    "                    for image_name in os.listdir(label_dir):\n",
    "                        image_path = os.path.join(label_dir, image_name)\n",
    "                        writer.writerow([image_path, label])\n",
    "\n",
    "if __name__ == \"__main__\":\n",
    "    data_dir = r\"C:\\Users\\abd\\Downloads\\data\\raw\"  # Path to the raw dataset\n",
    "    output_csv = r\"C:\\Users\\abd\\Downloads\\data\\raw\\fer2013.csv\"\n",
    "    \n",
    "    create_csv(data_dir, output_csv)\n"
   ]
  },
  {
   "cell_type": "code",
   "execution_count": null,
   "id": "8807f4dc",
   "metadata": {},
   "outputs": [],
   "source": []
  }
 ],
 "metadata": {
  "kernelspec": {
   "display_name": "Python 3 (ipykernel)",
   "language": "python",
   "name": "python3"
  },
  "language_info": {
   "codemirror_mode": {
    "name": "ipython",
    "version": 3
   },
   "file_extension": ".py",
   "mimetype": "text/x-python",
   "name": "python",
   "nbconvert_exporter": "python",
   "pygments_lexer": "ipython3",
   "version": "3.10.5"
  }
 },
 "nbformat": 4,
 "nbformat_minor": 5
}
